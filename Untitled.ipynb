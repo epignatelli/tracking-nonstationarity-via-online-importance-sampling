{
 "cells": [
  {
   "cell_type": "code",
   "execution_count": 2,
   "id": "2088f884-a43c-44ca-b8f7-72b25d7c2b69",
   "metadata": {},
   "outputs": [],
   "source": [
    "from gym_minigrid.wrappers import *\n",
    "from bsuite.utils.gym_wrapper import DMEnvFromGym\n",
    "\n",
    "env = gym.make('MiniGrid-Empty-Random-6x6-v0')\n",
    "env = RGBImgPartialObsWrapper(env) # Get pixel observations\n",
    "env = ImgObsWrapper(env) # Get rid of the 'mission' field\n",
    "env = DMEnvFromGym(env)"
   ]
  },
  {
   "cell_type": "code",
   "execution_count": 3,
   "id": "cb81e563-c0e5-41db-b8c2-7df6179cd9fd",
   "metadata": {},
   "outputs": [],
   "source": [
    "a = list(range(10))"
   ]
  },
  {
   "cell_type": "code",
   "execution_count": 4,
   "id": "cf1b8992-f219-4903-9c05-d9c2a7b79b45",
   "metadata": {},
   "outputs": [],
   "source": [
    "import numpy as jnp\n",
    "b = jnp.array(a)"
   ]
  },
  {
   "cell_type": "code",
   "execution_count": 8,
   "id": "64c37612-609f-4223-9d1f-5762fb1a6da1",
   "metadata": {},
   "outputs": [
    {
     "data": {
      "text/plain": [
       "array([9, 0, 1, 2, 3, 4, 5, 6, 7, 8])"
      ]
     },
     "execution_count": 8,
     "metadata": {},
     "output_type": "execute_result"
    }
   ],
   "source": [
    "jnp.roll(b, 1)"
   ]
  },
  {
   "cell_type": "code",
   "execution_count": 5,
   "id": "2eef25fb-c7f0-4369-9db2-428722f50fba",
   "metadata": {},
   "outputs": [
    {
     "data": {
      "text/plain": [
       "[0, 1, 2, 3, 4, 5, 6, 7, 8]"
      ]
     },
     "execution_count": 5,
     "metadata": {},
     "output_type": "execute_result"
    }
   ],
   "source": [
    "a[:-1]"
   ]
  },
  {
   "cell_type": "code",
   "execution_count": 6,
   "id": "67b7185f-98cd-4115-aa11-f6829fc60d58",
   "metadata": {},
   "outputs": [
    {
     "data": {
      "text/plain": [
       "[1, 2, 3, 4, 5, 6, 7, 8, 9]"
      ]
     },
     "execution_count": 6,
     "metadata": {},
     "output_type": "execute_result"
    }
   ],
   "source": [
    "a[1:]"
   ]
  },
  {
   "cell_type": "code",
   "execution_count": 133,
   "id": "c6ddecdb-ff15-4c9c-963e-68f4e172033c",
   "metadata": {},
   "outputs": [
    {
     "data": {
      "text/plain": [
       "TimeStep(step_type=<StepType.MID: 1>, reward=0, discount=1.0, observation=array([[[146, 146, 146],\n",
       "        [146, 146, 146],\n",
       "        [146, 146, 146],\n",
       "        ...,\n",
       "        [146, 146, 146],\n",
       "        [146, 146, 146],\n",
       "        [146, 146, 146]],\n",
       "\n",
       "       [[146, 146, 146],\n",
       "        [146, 146, 146],\n",
       "        [146, 146, 146],\n",
       "        ...,\n",
       "        [146, 146, 146],\n",
       "        [146, 146, 146],\n",
       "        [146, 146, 146]],\n",
       "\n",
       "       [[146, 146, 146],\n",
       "        [146, 146, 146],\n",
       "        [146, 146, 146],\n",
       "        ...,\n",
       "        [146, 146, 146],\n",
       "        [146, 146, 146],\n",
       "        [146, 146, 146]],\n",
       "\n",
       "       ...,\n",
       "\n",
       "       [[146, 146, 146],\n",
       "        [146, 146, 146],\n",
       "        [146, 146, 146],\n",
       "        ...,\n",
       "        [146, 146, 146],\n",
       "        [146, 146, 146],\n",
       "        [146, 146, 146]],\n",
       "\n",
       "       [[146, 146, 146],\n",
       "        [146, 146, 146],\n",
       "        [146, 146, 146],\n",
       "        ...,\n",
       "        [146, 146, 146],\n",
       "        [146, 146, 146],\n",
       "        [146, 146, 146]],\n",
       "\n",
       "       [[146, 146, 146],\n",
       "        [146, 146, 146],\n",
       "        [146, 146, 146],\n",
       "        ...,\n",
       "        [146, 146, 146],\n",
       "        [146, 146, 146],\n",
       "        [146, 146, 146]]], dtype=uint8))"
      ]
     },
     "execution_count": 133,
     "metadata": {},
     "output_type": "execute_result"
    }
   ],
   "source": [
    "timestep = env.step(1)\n",
    "timestep"
   ]
  },
  {
   "cell_type": "code",
   "execution_count": 134,
   "id": "ffb0e3c3-9154-4894-8783-65fff97870e3",
   "metadata": {},
   "outputs": [
    {
     "data": {
      "text/plain": [
       "TimeStep(step_type=<StepType.FIRST: 0>, reward=None, discount=None, observation=array([[[146, 146, 146],\n",
       "        [146, 146, 146],\n",
       "        [146, 146, 146],\n",
       "        ...,\n",
       "        [146, 146, 146],\n",
       "        [146, 146, 146],\n",
       "        [146, 146, 146]],\n",
       "\n",
       "       [[146, 146, 146],\n",
       "        [146, 146, 146],\n",
       "        [146, 146, 146],\n",
       "        ...,\n",
       "        [146, 146, 146],\n",
       "        [146, 146, 146],\n",
       "        [146, 146, 146]],\n",
       "\n",
       "       [[146, 146, 146],\n",
       "        [146, 146, 146],\n",
       "        [146, 146, 146],\n",
       "        ...,\n",
       "        [146, 146, 146],\n",
       "        [146, 146, 146],\n",
       "        [146, 146, 146]],\n",
       "\n",
       "       ...,\n",
       "\n",
       "       [[146, 146, 146],\n",
       "        [146, 146, 146],\n",
       "        [146, 146, 146],\n",
       "        ...,\n",
       "        [146, 146, 146],\n",
       "        [146, 146, 146],\n",
       "        [146, 146, 146]],\n",
       "\n",
       "       [[146, 146, 146],\n",
       "        [146, 146, 146],\n",
       "        [146, 146, 146],\n",
       "        ...,\n",
       "        [146, 146, 146],\n",
       "        [146, 146, 146],\n",
       "        [146, 146, 146]],\n",
       "\n",
       "       [[146, 146, 146],\n",
       "        [146, 146, 146],\n",
       "        [146, 146, 146],\n",
       "        ...,\n",
       "        [146, 146, 146],\n",
       "        [146, 146, 146],\n",
       "        [146, 146, 146]]], dtype=uint8))"
      ]
     },
     "execution_count": 134,
     "metadata": {},
     "output_type": "execute_result"
    }
   ],
   "source": [
    "timestep = env.reset()\n",
    "timestep"
   ]
  },
  {
   "cell_type": "code",
   "execution_count": 110,
   "id": "2c90a762-b78c-4ebb-b037-f34701d6dddc",
   "metadata": {},
   "outputs": [
    {
     "ename": "TypeError",
     "evalue": "Image data of dtype object cannot be converted to float",
     "output_type": "error",
     "traceback": [
      "\u001b[0;31m---------------------------------------------------------------------------\u001b[0m",
      "\u001b[0;31mTypeError\u001b[0m                                 Traceback (most recent call last)",
      "\u001b[0;32m<ipython-input-110-e866a4e86071>\u001b[0m in \u001b[0;36m<module>\u001b[0;34m\u001b[0m\n\u001b[1;32m      4\u001b[0m \u001b[0menv\u001b[0m\u001b[0;34m.\u001b[0m\u001b[0mseed\u001b[0m\u001b[0;34m(\u001b[0m\u001b[0monp\u001b[0m\u001b[0;34m.\u001b[0m\u001b[0mrandom\u001b[0m\u001b[0;34m.\u001b[0m\u001b[0mrandint\u001b[0m\u001b[0;34m(\u001b[0m\u001b[0;36m100\u001b[0m\u001b[0;34m)\u001b[0m\u001b[0;34m)\u001b[0m\u001b[0;34m\u001b[0m\u001b[0;34m\u001b[0m\u001b[0m\n\u001b[1;32m      5\u001b[0m \u001b[0mobs\u001b[0m \u001b[0;34m=\u001b[0m \u001b[0menv\u001b[0m\u001b[0;34m.\u001b[0m\u001b[0mreset\u001b[0m\u001b[0;34m(\u001b[0m\u001b[0;34m)\u001b[0m\u001b[0;34m\u001b[0m\u001b[0;34m\u001b[0m\u001b[0m\n\u001b[0;32m----> 6\u001b[0;31m \u001b[0mplt\u001b[0m\u001b[0;34m.\u001b[0m\u001b[0mimshow\u001b[0m\u001b[0;34m(\u001b[0m\u001b[0mobs\u001b[0m\u001b[0;34m)\u001b[0m\u001b[0;34m\u001b[0m\u001b[0;34m\u001b[0m\u001b[0m\n\u001b[0m\u001b[1;32m      7\u001b[0m \u001b[0mplt\u001b[0m\u001b[0;34m.\u001b[0m\u001b[0mshow\u001b[0m\u001b[0;34m(\u001b[0m\u001b[0;34m)\u001b[0m\u001b[0;34m\u001b[0m\u001b[0;34m\u001b[0m\u001b[0m\n\u001b[1;32m      8\u001b[0m \u001b[0ma\u001b[0m \u001b[0;34m=\u001b[0m \u001b[0menv\u001b[0m\u001b[0;34m.\u001b[0m\u001b[0mrender\u001b[0m\u001b[0;34m(\u001b[0m\u001b[0;34m)\u001b[0m\u001b[0;34m\u001b[0m\u001b[0;34m\u001b[0m\u001b[0m\n",
      "\u001b[0;32m~/anaconda3/envs/rl/lib/python3.8/site-packages/matplotlib/pyplot.py\u001b[0m in \u001b[0;36mimshow\u001b[0;34m(X, cmap, norm, aspect, interpolation, alpha, vmin, vmax, origin, extent, filternorm, filterrad, resample, url, data, **kwargs)\u001b[0m\n\u001b[1;32m   2870\u001b[0m         \u001b[0mfilternorm\u001b[0m\u001b[0;34m=\u001b[0m\u001b[0;32mTrue\u001b[0m\u001b[0;34m,\u001b[0m \u001b[0mfilterrad\u001b[0m\u001b[0;34m=\u001b[0m\u001b[0;36m4.0\u001b[0m\u001b[0;34m,\u001b[0m \u001b[0mresample\u001b[0m\u001b[0;34m=\u001b[0m\u001b[0;32mNone\u001b[0m\u001b[0;34m,\u001b[0m \u001b[0murl\u001b[0m\u001b[0;34m=\u001b[0m\u001b[0;32mNone\u001b[0m\u001b[0;34m,\u001b[0m\u001b[0;34m\u001b[0m\u001b[0;34m\u001b[0m\u001b[0m\n\u001b[1;32m   2871\u001b[0m         data=None, **kwargs):\n\u001b[0;32m-> 2872\u001b[0;31m     __ret = gca().imshow(\n\u001b[0m\u001b[1;32m   2873\u001b[0m         \u001b[0mX\u001b[0m\u001b[0;34m,\u001b[0m \u001b[0mcmap\u001b[0m\u001b[0;34m=\u001b[0m\u001b[0mcmap\u001b[0m\u001b[0;34m,\u001b[0m \u001b[0mnorm\u001b[0m\u001b[0;34m=\u001b[0m\u001b[0mnorm\u001b[0m\u001b[0;34m,\u001b[0m \u001b[0maspect\u001b[0m\u001b[0;34m=\u001b[0m\u001b[0maspect\u001b[0m\u001b[0;34m,\u001b[0m\u001b[0;34m\u001b[0m\u001b[0;34m\u001b[0m\u001b[0m\n\u001b[1;32m   2874\u001b[0m         \u001b[0minterpolation\u001b[0m\u001b[0;34m=\u001b[0m\u001b[0minterpolation\u001b[0m\u001b[0;34m,\u001b[0m \u001b[0malpha\u001b[0m\u001b[0;34m=\u001b[0m\u001b[0malpha\u001b[0m\u001b[0;34m,\u001b[0m \u001b[0mvmin\u001b[0m\u001b[0;34m=\u001b[0m\u001b[0mvmin\u001b[0m\u001b[0;34m,\u001b[0m\u001b[0;34m\u001b[0m\u001b[0;34m\u001b[0m\u001b[0m\n",
      "\u001b[0;32m~/anaconda3/envs/rl/lib/python3.8/site-packages/matplotlib/__init__.py\u001b[0m in \u001b[0;36minner\u001b[0;34m(ax, data, *args, **kwargs)\u001b[0m\n\u001b[1;32m   1350\u001b[0m     \u001b[0;32mdef\u001b[0m \u001b[0minner\u001b[0m\u001b[0;34m(\u001b[0m\u001b[0max\u001b[0m\u001b[0;34m,\u001b[0m \u001b[0;34m*\u001b[0m\u001b[0margs\u001b[0m\u001b[0;34m,\u001b[0m \u001b[0mdata\u001b[0m\u001b[0;34m=\u001b[0m\u001b[0;32mNone\u001b[0m\u001b[0;34m,\u001b[0m \u001b[0;34m**\u001b[0m\u001b[0mkwargs\u001b[0m\u001b[0;34m)\u001b[0m\u001b[0;34m:\u001b[0m\u001b[0;34m\u001b[0m\u001b[0;34m\u001b[0m\u001b[0m\n\u001b[1;32m   1351\u001b[0m         \u001b[0;32mif\u001b[0m \u001b[0mdata\u001b[0m \u001b[0;32mis\u001b[0m \u001b[0;32mNone\u001b[0m\u001b[0;34m:\u001b[0m\u001b[0;34m\u001b[0m\u001b[0;34m\u001b[0m\u001b[0m\n\u001b[0;32m-> 1352\u001b[0;31m             \u001b[0;32mreturn\u001b[0m \u001b[0mfunc\u001b[0m\u001b[0;34m(\u001b[0m\u001b[0max\u001b[0m\u001b[0;34m,\u001b[0m \u001b[0;34m*\u001b[0m\u001b[0mmap\u001b[0m\u001b[0;34m(\u001b[0m\u001b[0msanitize_sequence\u001b[0m\u001b[0;34m,\u001b[0m \u001b[0margs\u001b[0m\u001b[0;34m)\u001b[0m\u001b[0;34m,\u001b[0m \u001b[0;34m**\u001b[0m\u001b[0mkwargs\u001b[0m\u001b[0;34m)\u001b[0m\u001b[0;34m\u001b[0m\u001b[0;34m\u001b[0m\u001b[0m\n\u001b[0m\u001b[1;32m   1353\u001b[0m \u001b[0;34m\u001b[0m\u001b[0m\n\u001b[1;32m   1354\u001b[0m         \u001b[0mbound\u001b[0m \u001b[0;34m=\u001b[0m \u001b[0mnew_sig\u001b[0m\u001b[0;34m.\u001b[0m\u001b[0mbind\u001b[0m\u001b[0;34m(\u001b[0m\u001b[0max\u001b[0m\u001b[0;34m,\u001b[0m \u001b[0;34m*\u001b[0m\u001b[0margs\u001b[0m\u001b[0;34m,\u001b[0m \u001b[0;34m**\u001b[0m\u001b[0mkwargs\u001b[0m\u001b[0;34m)\u001b[0m\u001b[0;34m\u001b[0m\u001b[0;34m\u001b[0m\u001b[0m\n",
      "\u001b[0;32m~/anaconda3/envs/rl/lib/python3.8/site-packages/matplotlib/axes/_axes.py\u001b[0m in \u001b[0;36mimshow\u001b[0;34m(self, X, cmap, norm, aspect, interpolation, alpha, vmin, vmax, origin, extent, filternorm, filterrad, resample, url, **kwargs)\u001b[0m\n\u001b[1;32m   5587\u001b[0m                               resample=resample, **kwargs)\n\u001b[1;32m   5588\u001b[0m \u001b[0;34m\u001b[0m\u001b[0m\n\u001b[0;32m-> 5589\u001b[0;31m         \u001b[0mim\u001b[0m\u001b[0;34m.\u001b[0m\u001b[0mset_data\u001b[0m\u001b[0;34m(\u001b[0m\u001b[0mX\u001b[0m\u001b[0;34m)\u001b[0m\u001b[0;34m\u001b[0m\u001b[0;34m\u001b[0m\u001b[0m\n\u001b[0m\u001b[1;32m   5590\u001b[0m         \u001b[0mim\u001b[0m\u001b[0;34m.\u001b[0m\u001b[0mset_alpha\u001b[0m\u001b[0;34m(\u001b[0m\u001b[0malpha\u001b[0m\u001b[0;34m)\u001b[0m\u001b[0;34m\u001b[0m\u001b[0;34m\u001b[0m\u001b[0m\n\u001b[1;32m   5591\u001b[0m         \u001b[0;32mif\u001b[0m \u001b[0mim\u001b[0m\u001b[0;34m.\u001b[0m\u001b[0mget_clip_path\u001b[0m\u001b[0;34m(\u001b[0m\u001b[0;34m)\u001b[0m \u001b[0;32mis\u001b[0m \u001b[0;32mNone\u001b[0m\u001b[0;34m:\u001b[0m\u001b[0;34m\u001b[0m\u001b[0;34m\u001b[0m\u001b[0m\n",
      "\u001b[0;32m~/anaconda3/envs/rl/lib/python3.8/site-packages/matplotlib/image.py\u001b[0m in \u001b[0;36mset_data\u001b[0;34m(self, A)\u001b[0m\n\u001b[1;32m    698\u001b[0m         if (self._A.dtype != np.uint8 and\n\u001b[1;32m    699\u001b[0m                 not np.can_cast(self._A.dtype, float, \"same_kind\")):\n\u001b[0;32m--> 700\u001b[0;31m             raise TypeError(\"Image data of dtype {} cannot be converted to \"\n\u001b[0m\u001b[1;32m    701\u001b[0m                             \"float\".format(self._A.dtype))\n\u001b[1;32m    702\u001b[0m \u001b[0;34m\u001b[0m\u001b[0m\n",
      "\u001b[0;31mTypeError\u001b[0m: Image data of dtype object cannot be converted to float"
     ]
    },
    {
     "data": {
      "image/png": "[encoded data removed]",
      "text/plain": [
       "<Figure size 432x288 with 1 Axes>"
      ]
     },
     "metadata": {
      "needs_background": "light"
     },
     "output_type": "display_data"
    }
   ],
   "source": [
    "import matplotlib.pyplot as plt\n",
    "import numpy as onp\n",
    "\n",
    "env.seed(onp.random.randint(100))\n",
    "obs = env.reset()\n",
    "plt.imshow(obs)\n",
    "plt.show()\n",
    "a = env.render()\n",
    "plt.imshow(a)\n",
    "plt.show()"
   ]
  },
  {
   "cell_type": "code",
   "execution_count": 76,
   "id": "489a6f9e-d06f-4e16-a113-134ba4f647db",
   "metadata": {},
   "outputs": [
    {
     "data": {
      "text/plain": [
       "(array([[[146, 146, 146],\n",
       "         [146, 146, 146],\n",
       "         [146, 146, 146],\n",
       "         ...,\n",
       "         [146, 146, 146],\n",
       "         [146, 146, 146],\n",
       "         [146, 146, 146]],\n",
       " \n",
       "        [[146, 146, 146],\n",
       "         [146, 146, 146],\n",
       "         [146, 146, 146],\n",
       "         ...,\n",
       "         [146, 146, 146],\n",
       "         [146, 146, 146],\n",
       "         [146, 146, 146]],\n",
       " \n",
       "        [[146, 146, 146],\n",
       "         [146, 146, 146],\n",
       "         [146, 146, 146],\n",
       "         ...,\n",
       "         [146, 146, 146],\n",
       "         [146, 146, 146],\n",
       "         [146, 146, 146]],\n",
       " \n",
       "        ...,\n",
       " \n",
       "        [[ 99,  99,  99],\n",
       "         [ 76,  76,  76],\n",
       "         [ 76,  76,  76],\n",
       "         ...,\n",
       "         [146, 146, 146],\n",
       "         [146, 146, 146],\n",
       "         [146, 146, 146]],\n",
       " \n",
       "        [[ 99,  99,  99],\n",
       "         [ 76,  76,  76],\n",
       "         [ 76,  76,  76],\n",
       "         ...,\n",
       "         [146, 146, 146],\n",
       "         [146, 146, 146],\n",
       "         [146, 146, 146]],\n",
       " \n",
       "        [[ 99,  99,  99],\n",
       "         [ 76,  76,  76],\n",
       "         [ 76,  76,  76],\n",
       "         ...,\n",
       "         [146, 146, 146],\n",
       "         [146, 146, 146],\n",
       "         [146, 146, 146]]], dtype=uint8),\n",
       " 0,\n",
       " False,\n",
       " {})"
      ]
     },
     "execution_count": 76,
     "metadata": {},
     "output_type": "execute_result"
    }
   ],
   "source": [
    "x"
   ]
  },
  {
   "cell_type": "code",
   "execution_count": null,
   "id": "b3fd2fa5-c329-4f16-b24c-deea4dd35e01",
   "metadata": {},
   "outputs": [],
   "source": []
  }
 ],
 "metadata": {
  "kernelspec": {
   "display_name": "Python 3",
   "language": "python",
   "name": "python3"
  },
  "language_info": {
   "codemirror_mode": {
    "name": "ipython",
    "version": 3
   },
   "file_extension": ".py",
   "mimetype": "text/x-python",
   "name": "python",
   "nbconvert_exporter": "python",
   "pygments_lexer": "ipython3",
   "version": "3.8.8"
  }
 },
 "nbformat": 4,
 "nbformat_minor": 5
}
